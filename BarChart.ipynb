{
 "cells": [
  {
   "cell_type": "code",
   "execution_count": 21,
   "id": "ebdf9922-1843-493b-b4fe-aec0ede4a99c",
   "metadata": {},
   "outputs": [],
   "source": [
    "from HurdatReader import *\n",
    "from PlotPaths import *\n",
    "import matplotlib.pyplot as plt\n",
    "import numpy as np\n",
    "import scipy.stats as st\n",
    "import pandas as pd\n",
    "hurdat = trimHurdat(readHurdat('Data/Hurdat.txt'), timeMin = dt.datetime(1900, 1, 1, tzinfo = dt.timezone.utc))"
   ]
  },
  {
   "cell_type": "code",
   "execution_count": 55,
   "id": "e94e6866-ca28-4155-b531-34f85dfa3758",
   "metadata": {},
   "outputs": [],
   "source": [
    "def monthlyBarChartByGroup(hurdat, lon_min=-180, lon_max=180, lat_min=-90, lat_max=90):\n",
    "    STORM_STATUSES = ['TS', 'EX', 'TD', 'HU1', 'HU2', 'HU3', 'HU4', 'HU5', 'LO', 'SD', 'SS', 'DB']\n",
    "    legend = {'TS': 'Tropical Storm', 'EX': 'Extratropical', 'TD': 'Tropical Depression', 'HU1': 'Cat 1 Hurricane', 'HU2': 'Cat 2 Hurricane', \n",
    "              'HU3': 'Cat 3 Hurricane', 'HU4': 'Cat 4 Hurricane', 'HU5': 'Cat 5 Hurricane',\n",
    "              'LO': 'Low', 'SD': 'Subtropical Depression', 'SS': 'Subtropical Storm', 'DB': 'Disturbance'}\n",
    "    labels = ['Jan', 'Feb', 'Mar', 'Apr', 'May', 'June', 'July', 'Aug', 'Sept', 'Oct', 'Nov', 'Dec']\n",
    "    \n",
    "    date_list = []\n",
    "    status_list =[]\n",
    "    for storm in hurdat:\n",
    "        datapoint = statusNearLocation(hurdat[storm], lon_min, lon_max, lat_min, lat_max, returnTime = True)\n",
    "        if datapoint is not None:\n",
    "            status_list.append(datapoint[0])\n",
    "            date_list.append(datapoint[1].month)\n",
    "            \n",
    "    barChartDf = pd.DataFrame()\n",
    "    for status in STORM_STATUSES:\n",
    "        barChartDf[status] = np.zeros(12)\n",
    "        \n",
    "        \n",
    "    for month, status in zip(date_list, status_list):\n",
    "        barChartDf[status][month-1] += 1\n",
    "        \n",
    "    bottom = np.zeros(12)\n",
    "        \n",
    "    fig, ax = plt.subplots()\n",
    "    \n",
    "    for key in barChartDf:\n",
    "        if np.sum(barChartDf[key]) == 0: continue\n",
    "        ax.bar(labels, barChartDf[key], bottom = bottom, label = legend[key])\n",
    "        bottom += barChartDf[key]\n",
    "    \n",
    "    ax.legend()\n",
    "    ax.set_ylim(np.sum()\n",
    "    \n",
    "    \n",
    "    \n",
    "    \n",
    "    \n",
    "        "
   ]
  },
  {
   "cell_type": "code",
   "execution_count": 56,
   "id": "0ae29e98-1903-42a6-8cdf-700d3f081376",
   "metadata": {},
   "outputs": [
    {
     "data": {
      "image/png": "[encoded data removed]",
      "text/plain": [
       "<Figure size 432x288 with 1 Axes>"
      ]
     },
     "metadata": {
      "needs_background": "light"
     },
     "output_type": "display_data"
    }
   ],
   "source": [
    "monthlyBarChartByGroup(hurdat, lon_min=-73, lon_max=-69, lat_min=40, lat_max=44)"
   ]
  },
  {
   "cell_type": "code",
   "execution_count": null,
   "id": "c65a86f8-5dd1-4014-bd52-d6be94cfad7b",
   "metadata": {},
   "outputs": [],
   "source": []
  }
 ],
 "metadata": {
  "kernelspec": {
   "display_name": "Python 3 (ipykernel)",
   "language": "python",
   "name": "python3"
  },
  "language_info": {
   "codemirror_mode": {
    "name": "ipython",
    "version": 3
   },
   "file_extension": ".py",
   "mimetype": "text/x-python",
   "name": "python",
   "nbconvert_exporter": "python",
   "pygments_lexer": "ipython3",
   "version": "3.10.4"
  }
 },
 "nbformat": 4,
 "nbformat_minor": 5
}
