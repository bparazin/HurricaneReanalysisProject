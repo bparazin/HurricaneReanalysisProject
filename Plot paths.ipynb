{
 "cells": [
  {
   "cell_type": "code",
   "execution_count": 1,
   "id": "5d98871c-7276-4c09-bbba-83de924cfe79",
   "metadata": {},
   "outputs": [],
   "source": [
    "from HurdatReader import *"
   ]
  },
  {
   "cell_type": "code",
   "execution_count": null,
   "id": "e0c7c145-45d9-47f7-96ef-5dc27b015501",
   "metadata": {},
   "outputs": [],
   "source": [
    "hurdat = readHurdat('Data/Hurdat.txt')"
   ]
  },
  {
   "cell_type": "code",
   "execution_count": null,
   "id": "4846cd66-b07e-4a87-9e29-3b1f056cd71f",
   "metadata": {},
   "outputs": [],
   "source": []
  }
 ],
 "metadata": {
  "kernelspec": {
   "display_name": "Python 3 (ipykernel)",
   "language": "python",
   "name": "python3"
  },
  "language_info": {
   "codemirror_mode": {
    "name": "ipython",
    "version": 3
   },
   "file_extension": ".py",
   "mimetype": "text/x-python",
   "name": "python",
   "nbconvert_exporter": "python",
   "pygments_lexer": "ipython3",
   "version": "3.10.6"
  }
 },
 "nbformat": 4,
 "nbformat_minor": 5
}
